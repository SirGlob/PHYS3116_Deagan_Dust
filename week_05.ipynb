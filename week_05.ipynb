{
 "cells": [
  {
   "cell_type": "markdown",
   "id": "bce67858",
   "metadata": {},
   "source": [
    "# PHYS3116 Tutorial 5: Functions, the IMF and Distance Measures"
   ]
  },
  {
   "cell_type": "code",
   "execution_count": null,
   "id": "eb61a06f",
   "metadata": {},
   "outputs": [],
   "source": [
    "import numpy as np\n",
    "import matplotlib.pyplot as plt\n",
    "\n",
    "from astropy.cosmology import FlatLambdaCDM\n",
    "import astropy.cosmology.units as cu\n",
    "from astropy import units as u\n",
    "from scipy.optimize import curve_fit"
   ]
  },
  {
   "cell_type": "markdown",
   "id": "6edeff11",
   "metadata": {},
   "source": [
    "To start with let's introduce a new Python package, Astropy. As hinted by the name, this package is designed to be used by astronomers. "
   ]
  },
  {
   "cell_type": "code",
   "execution_count": 2,
   "id": "0d7d2ce2",
   "metadata": {},
   "outputs": [
    {
     "data": {
      "text/latex": [
       "$30 \\; \\mathrm{Mpc}$"
      ],
      "text/plain": [
       "<Quantity 30. Mpc>"
      ]
     },
     "execution_count": 2,
     "metadata": {},
     "output_type": "execute_result"
    }
   ],
   "source": [
    "# A really useful tool is being able to define units\n",
    "distance = 30 * u.Mpc\n",
    "distance"
   ]
  },
  {
   "cell_type": "code",
   "execution_count": 3,
   "id": "bc51b857",
   "metadata": {},
   "outputs": [
    {
     "data": {
      "text/latex": [
       "$20 \\; \\mathrm{s}$"
      ],
      "text/plain": [
       "<Quantity 20. s>"
      ]
     },
     "execution_count": 3,
     "metadata": {},
     "output_type": "execute_result"
    }
   ],
   "source": [
    "time = 20 * u.s\n",
    "time"
   ]
  },
  {
   "cell_type": "code",
   "execution_count": 4,
   "id": "f63e2064",
   "metadata": {},
   "outputs": [
    {
     "name": "stdout",
     "output_type": "stream",
     "text": [
      "FlatLambdaCDM(H0=70.0 km / (Mpc s), Om0=0.3, Tcmb0=0.0 K, Neff=3.04, m_nu=None, Ob0=None)\n"
     ]
    }
   ],
   "source": [
    "# --- Define cosmology ---\n",
    "# lets use some approximate values for now.\n",
    "\n",
    "H0 = 70 # Hubble constant\n",
    "Om0 = 0.3 # Present day matter desnity\n",
    "\n",
    "\n",
    "cosmo = FlatLambdaCDM(H0=H0, Om0=Om0)\n",
    "print(cosmo)"
   ]
  },
  {
   "cell_type": "code",
   "execution_count": 5,
   "id": "68cf0d78",
   "metadata": {},
   "outputs": [
    {
     "data": {
      "text/latex": [
       "$10.048675 \\; \\mathrm{Gyr}$"
      ],
      "text/plain": [
       "<Quantity 10.04867469 Gyr>"
      ]
     },
     "execution_count": 5,
     "metadata": {},
     "output_type": "execute_result"
    }
   ],
   "source": [
    "# we can use this cosmology to get particular properties at a specified redshift\n",
    "z = 0.30\n",
    "cosmo.age(z)"
   ]
  },
  {
   "cell_type": "code",
   "execution_count": 6,
   "id": "606207d4",
   "metadata": {},
   "outputs": [
    {
     "data": {
      "text/latex": [
       "$3.4183093 \\; \\mathrm{Gyr}$"
      ],
      "text/plain": [
       "<Quantity 3.41830925 Gyr>"
      ]
     },
     "execution_count": 6,
     "metadata": {},
     "output_type": "execute_result"
    }
   ],
   "source": [
    "# what is the look back time at this redshift?\n",
    "\n",
    "cosmo.age(0) - cosmo.age(z)"
   ]
  },
  {
   "cell_type": "code",
   "execution_count": 7,
   "id": "17039819",
   "metadata": {},
   "outputs": [
    {
     "data": {
      "text/latex": [
       "$[8.426346,~5.7516469,~4.2007319] \\; \\mathrm{Gyr}$"
      ],
      "text/plain": [
       "<Quantity [8.42634602, 5.75164694, 4.20073193] Gyr>"
      ]
     },
     "execution_count": 7,
     "metadata": {},
     "output_type": "execute_result"
    }
   ],
   "source": [
    "# Can also do for an array of redshifts\n",
    "\n",
    "cosmo.age([0.5, 1, 1.5] * cu.redshift)"
   ]
  },
  {
   "cell_type": "code",
   "execution_count": 8,
   "id": "61c733c5",
   "metadata": {},
   "outputs": [
    {
     "data": {
      "text/latex": [
       "$0 \\; \\mathrm{Mpc}$"
      ],
      "text/plain": [
       "<Quantity 0. Mpc>"
      ]
     },
     "execution_count": 8,
     "metadata": {},
     "output_type": "execute_result"
    }
   ],
   "source": [
    "# we can also find distances\n",
    "cosmo.comoving_distance(0)"
   ]
  },
  {
   "cell_type": "code",
   "execution_count": 9,
   "id": "8681a2c3",
   "metadata": {},
   "outputs": [
    {
     "data": {
      "text/latex": [
       "$1194.3969 \\; \\mathrm{Mpc}$"
      ],
      "text/plain": [
       "<Quantity 1194.39686972 Mpc>"
      ]
     },
     "execution_count": 9,
     "metadata": {},
     "output_type": "execute_result"
    }
   ],
   "source": [
    "# how are away is that object from us now?\n",
    "cosmo.comoving_distance(z)"
   ]
  },
  {
   "cell_type": "markdown",
   "id": "7d6d0258",
   "metadata": {},
   "source": [
    "# Exercises\n",
    "\n",
    "## 1) Plotting Distances\n",
    "#### a) Imagine you have a 10 spectra containing the $H\\alpha$ line. Across these spectra you find that the $H\\alpha$ line varies between 7,000 and 12,000 Angstroms. Recall that at z = 0,  $\\lambda_{H\\alpha, rest}$ = 6,563 Angstroms. Pretend that the 10 $H\\alpha$ lines are evenly spaced between 7,000 and 12,000 Angstroms. Make a plot of $\\lambda_{H\\alpha, obs}$ - $\\lambda_{H\\alpha, rest}$ vs Distance to the object emmitting the spectra. You must use functions to do this where one of the inputs is the array of $\\lambda_{H\\alpha}$ wavelengths and the output is the distances.\n",
    "\n",
    "#### b) Using the fitting_func and scipy.curve_fit, fit a curve to the data\n",
    "\n",
    "#### b) Pretend that the telescope can only resolve wavelengths up to (and including) 8,000 Angstroms. What is the largest lookback time that we can observe at resolution."
   ]
  },
  {
   "cell_type": "code",
   "execution_count": 89,
   "id": "62cbc896",
   "metadata": {},
   "outputs": [],
   "source": [
    "# 1a)\n",
    "\n",
    "# --- Define cosmology ---\n",
    "cosmo = FlatLambdaCDM(H0=70, Om0=0.3)\n",
    "\n",
    "lambda_rest = 6563\n",
    "lambda_obs_array = np.linspace(7000, 12000, 10)\n"
   ]
  },
  {
   "cell_type": "code",
   "execution_count": 90,
   "id": "612e9a3f",
   "metadata": {},
   "outputs": [],
   "source": [
    "# 1b)\n",
    "\n",
    "def fitting_func(lambda_obs, a, b, lambda_rest=6563):\n",
    "    z = (lambda_obs / lambda_rest) - 1\n",
    "    return a * (z / (1 - b * z))"
   ]
  },
  {
   "cell_type": "code",
   "execution_count": 91,
   "id": "8b94a329",
   "metadata": {},
   "outputs": [],
   "source": [
    "# 1c)\n"
   ]
  },
  {
   "cell_type": "markdown",
   "id": "64cfe037",
   "metadata": {},
   "source": [
    "# Exercises\n",
    "\n",
    "## 1) Plotting the Salpeter IMF\n",
    "#### a) Again using functions, plot the salpeter IMF as a function of mass reminder that Function $\\propto m^{-2.35}$ for range (0.1Msol - 100Msol)\n",
    "#### b) Calculate the fraction of the total stellar mass in our galaxy being formed at any one time that is contained in: Stars with mass between 0.1Msol and 0.3Msol (hint: total_mass = np.trapz(m * xi, m))"
   ]
  },
  {
   "cell_type": "code",
   "execution_count": 93,
   "id": "1acedba5",
   "metadata": {},
   "outputs": [],
   "source": [
    "# 2a)"
   ]
  },
  {
   "cell_type": "code",
   "execution_count": 92,
   "id": "26ddd4e8",
   "metadata": {},
   "outputs": [],
   "source": [
    "# 2b) "
   ]
  }
 ],
 "metadata": {
  "kernelspec": {
   "display_name": "Python 3",
   "language": "python",
   "name": "python3"
  },
  "language_info": {
   "codemirror_mode": {
    "name": "ipython",
    "version": 3
   },
   "file_extension": ".py",
   "mimetype": "text/x-python",
   "name": "python",
   "nbconvert_exporter": "python",
   "pygments_lexer": "ipython3",
   "version": "3.11.3"
  }
 },
 "nbformat": 4,
 "nbformat_minor": 5
}

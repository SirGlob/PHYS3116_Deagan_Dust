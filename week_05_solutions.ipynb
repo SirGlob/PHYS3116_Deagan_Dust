{
 "cells": [
  {
   "cell_type": "markdown",
   "id": "bce67858",
   "metadata": {},
   "source": [
    "# PHYS3116 Tutorial 5: Functions, the IMF and Distance Measures"
   ]
  },
  {
   "cell_type": "code",
   "execution_count": null,
   "id": "eb61a06f",
   "metadata": {},
   "outputs": [],
   "source": [
    "import numpy as np\n",
    "import matplotlib.pyplot as plt\n",
    "\n",
    "from astropy.cosmology import FlatLambdaCDM\n",
    "import astropy.cosmology.units as cu\n",
    "from astropy import units as u\n",
    "from scipy.optimize import curve_fit"
   ]
  },
  {
   "cell_type": "markdown",
   "id": "6edeff11",
   "metadata": {},
   "source": [
    "To start with let's introduce a new Python package, Astropy. As hinted by the name, this package is designed to be used by astronomers. "
   ]
  },
  {
   "cell_type": "code",
   "execution_count": 2,
   "id": "0d7d2ce2",
   "metadata": {},
   "outputs": [
    {
     "data": {
      "text/latex": [
       "$30 \\; \\mathrm{Mpc}$"
      ],
      "text/plain": [
       "<Quantity 30. Mpc>"
      ]
     },
     "execution_count": 2,
     "metadata": {},
     "output_type": "execute_result"
    }
   ],
   "source": [
    "# A really useful tool is being able to define units\n",
    "distance = 30 * u.Mpc\n",
    "distance"
   ]
  },
  {
   "cell_type": "code",
   "execution_count": 3,
   "id": "bc51b857",
   "metadata": {},
   "outputs": [
    {
     "data": {
      "text/latex": [
       "$20 \\; \\mathrm{s}$"
      ],
      "text/plain": [
       "<Quantity 20. s>"
      ]
     },
     "execution_count": 3,
     "metadata": {},
     "output_type": "execute_result"
    }
   ],
   "source": [
    "time = 20 * u.s\n",
    "time"
   ]
  },
  {
   "cell_type": "code",
   "execution_count": 4,
   "id": "f63e2064",
   "metadata": {},
   "outputs": [
    {
     "name": "stdout",
     "output_type": "stream",
     "text": [
      "FlatLambdaCDM(H0=70.0 km / (Mpc s), Om0=0.3, Tcmb0=0.0 K, Neff=3.04, m_nu=None, Ob0=None)\n"
     ]
    }
   ],
   "source": [
    "# --- Define cosmology ---\n",
    "# lets use some approximate values for now.\n",
    "\n",
    "H0 = 70 # Hubble constant\n",
    "Om0 = 0.3 # Present day matter desnity\n",
    "\n",
    "\n",
    "cosmo = FlatLambdaCDM(H0=H0, Om0=Om0)\n",
    "print(cosmo)"
   ]
  },
  {
   "cell_type": "code",
   "execution_count": 5,
   "id": "68cf0d78",
   "metadata": {},
   "outputs": [
    {
     "data": {
      "text/latex": [
       "$10.048675 \\; \\mathrm{Gyr}$"
      ],
      "text/plain": [
       "<Quantity 10.04867469 Gyr>"
      ]
     },
     "execution_count": 5,
     "metadata": {},
     "output_type": "execute_result"
    }
   ],
   "source": [
    "# we can use this cosmology to get particular properties at a specified redshift\n",
    "z = 0.30\n",
    "cosmo.age(z)"
   ]
  },
  {
   "cell_type": "code",
   "execution_count": 6,
   "id": "606207d4",
   "metadata": {},
   "outputs": [
    {
     "data": {
      "text/latex": [
       "$3.4183093 \\; \\mathrm{Gyr}$"
      ],
      "text/plain": [
       "<Quantity 3.41830925 Gyr>"
      ]
     },
     "execution_count": 6,
     "metadata": {},
     "output_type": "execute_result"
    }
   ],
   "source": [
    "# what is the look back time at this redshift?\n",
    "\n",
    "cosmo.age(0) - cosmo.age(z)"
   ]
  },
  {
   "cell_type": "code",
   "execution_count": 7,
   "id": "17039819",
   "metadata": {},
   "outputs": [
    {
     "data": {
      "text/latex": [
       "$[8.426346,~5.7516469,~4.2007319] \\; \\mathrm{Gyr}$"
      ],
      "text/plain": [
       "<Quantity [8.42634602, 5.75164694, 4.20073193] Gyr>"
      ]
     },
     "execution_count": 7,
     "metadata": {},
     "output_type": "execute_result"
    }
   ],
   "source": [
    "# Can also do for an array of redshifts\n",
    "\n",
    "cosmo.age([0.5, 1, 1.5] * cu.redshift)"
   ]
  },
  {
   "cell_type": "code",
   "execution_count": 8,
   "id": "61c733c5",
   "metadata": {},
   "outputs": [
    {
     "data": {
      "text/latex": [
       "$0 \\; \\mathrm{Mpc}$"
      ],
      "text/plain": [
       "<Quantity 0. Mpc>"
      ]
     },
     "execution_count": 8,
     "metadata": {},
     "output_type": "execute_result"
    }
   ],
   "source": [
    "# we can also find distances\n",
    "cosmo.comoving_distance(0)"
   ]
  },
  {
   "cell_type": "code",
   "execution_count": 9,
   "id": "8681a2c3",
   "metadata": {},
   "outputs": [
    {
     "data": {
      "text/latex": [
       "$1194.3969 \\; \\mathrm{Mpc}$"
      ],
      "text/plain": [
       "<Quantity 1194.39686972 Mpc>"
      ]
     },
     "execution_count": 9,
     "metadata": {},
     "output_type": "execute_result"
    }
   ],
   "source": [
    "# how are away is that object from us now?\n",
    "cosmo.comoving_distance(z)"
   ]
  },
  {
   "cell_type": "markdown",
   "id": "7d6d0258",
   "metadata": {},
   "source": [
    "# Exercises\n",
    "\n",
    "## 1) Plotting Distances\n",
    "#### a) Imagine you have a 10 spectra containing the $H\\alpha$ line. Across these spectra you find that the $H\\alpha$ line varies between 7,000 and 12,000 Angstroms. Recall that at z = 0,  $\\lambda_{H\\alpha, rest}$ = 6,563 Angstroms. Pretend that the 10 $H\\alpha$ lines are evenly spaced between 7,000 and 12,000 Angstroms. Make a plot of $\\lambda_{H\\alpha, obs}$ - $\\lambda_{H\\alpha, rest}$ vs Distance to the object emmitting the spectra. You must use functions to do this where one of the inputs is the array of $\\lambda_{H\\alpha}$ wavelengths and the output is the distances.\n",
    "\n",
    "#### b) Using the fitting_func and scipy.curve_fit, fit a curve to the data\n",
    "\n",
    "#### b) Pretend that the telescope can only resolve wavelengths up to (and including) 8,000 Angstroms. What is the largest lookback time that we can observe at resolution."
   ]
  },
  {
   "cell_type": "code",
   "execution_count": 79,
   "id": "62cbc896",
   "metadata": {},
   "outputs": [
    {
     "data": {
      "text/plain": [
       "Text(0, 0.5, 'Comoving Distance (Mpc)')"
      ]
     },
     "execution_count": 79,
     "metadata": {},
     "output_type": "execute_result"
    },
    {
     "data": {
      "image/png": "[encoded data removed]",
      "text/plain": [
       "<Figure size 640x480 with 1 Axes>"
      ]
     },
     "metadata": {},
     "output_type": "display_data"
    }
   ],
   "source": [
    "# 1a)\n",
    "\n",
    "# --- Define cosmology ---\n",
    "cosmo = FlatLambdaCDM(H0=70, Om0=0.3)\n",
    "\n",
    "lambda_rest = 6563\n",
    "lambda_obs_array = np.linspace(7000, 12000, 10)\n",
    "\n",
    "def get_get_distances(lambda_obs, lambda_rest, cosmo):\n",
    "    z = (lambda_obs - lambda_rest) / lambda_rest\n",
    "    dist = cosmo.comoving_distance(z * cu.redshift)\n",
    "\n",
    "    return dist\n",
    "\n",
    "distances = get_get_distances(lambda_obs_array, lambda_rest, cosmo)\n",
    "\n",
    "plt.scatter(lambda_obs_array - lambda_rest, distances)\n",
    "plt.xlabel(r\"$\\lambda_{obs} - \\lambda_{rest}$ $(\\AA)$\")\n",
    "plt.ylabel(\"Comoving Distance (Mpc)\")"
   ]
  },
  {
   "cell_type": "code",
   "execution_count": 80,
   "id": "612e9a3f",
   "metadata": {},
   "outputs": [],
   "source": [
    "# 1b)\n",
    "\n",
    "def fitting_func(lambda_obs, a, b, lambda_rest=6563):\n",
    "    z = (lambda_obs / lambda_rest) - 1\n",
    "    return a * (z / (1 - b * z))"
   ]
  },
  {
   "cell_type": "code",
   "execution_count": 76,
   "id": "31a2c24a",
   "metadata": {},
   "outputs": [
    {
     "data": {
      "text/plain": [
       "(array([ 4.36019502e+03, -3.12535352e-01]),\n",
       " array([[ 1.19627443e+02, -4.94086626e-02],\n",
       "        [-4.94086626e-02,  2.15910509e-05]]))"
      ]
     },
     "execution_count": 76,
     "metadata": {},
     "output_type": "execute_result"
    }
   ],
   "source": [
    "# popt returns values of a, b used in the fitting_func. pcov is the covariance (error) matrix on the a, b values\n",
    "\n",
    "popt, pcov = curve_fit(fitting_func, lambda_obs_array, distances, p0=[4000, 0.5])\n",
    "\n",
    "popt, pcov"
   ]
  },
  {
   "cell_type": "code",
   "execution_count": 77,
   "id": "4752a662",
   "metadata": {},
   "outputs": [
    {
     "data": {
      "text/plain": [
       "[<matplotlib.lines.Line2D at 0x16b5cbe90>]"
      ]
     },
     "execution_count": 77,
     "metadata": {},
     "output_type": "execute_result"
    },
    {
     "data": {
      "image/png": "[encoded data removed]",
      "text/plain": [
       "<Figure size 640x480 with 1 Axes>"
      ]
     },
     "metadata": {},
     "output_type": "display_data"
    }
   ],
   "source": [
    "plt.scatter(lambda_obs_array - lambda_rest, distances)\n",
    "plt.xlabel(r\"$\\lambda_{obs} - \\lambda_{rest}$ $(\\AA)$\")\n",
    "plt.ylabel(\"Comoving Distance (Mpc)\")\n",
    "\n",
    "fitted_distances = fitting_func(lambda_obs_array, *popt)\n",
    "plt.plot(lambda_obs_array - lambda_rest, fitted_distances, color='red', linestyle='--', label=\"Fit\")"
   ]
  },
  {
   "cell_type": "code",
   "execution_count": 83,
   "id": "8b94a329",
   "metadata": {},
   "outputs": [
    {
     "data": {
      "text/latex": [
       "$2.6293085 \\; \\mathrm{Gyr}$"
      ],
      "text/plain": [
       "<Quantity 2.62930846 Gyr>"
      ]
     },
     "execution_count": 83,
     "metadata": {},
     "output_type": "execute_result"
    }
   ],
   "source": [
    "# 1c)\n",
    "\n",
    "z = (8000 - lambda_rest) / lambda_rest\n",
    "cosmo.age(0) - cosmo.age(z)"
   ]
  },
  {
   "cell_type": "markdown",
   "id": "64cfe037",
   "metadata": {},
   "source": [
    "# Exercises\n",
    "\n",
    "## 1) Plotting the Salpeter IMF\n",
    "#### a) Again using functions, plot the salpeter IMF as a function of mass reminder that Function $\\propto m^{-2.35}$ for range (0.1Msol - 100Msol)\n",
    "#### b) Calculate the fraction of the total stellar mass in our galaxy being formed at any one time that is contained in: Stars with mass between 0.1Msol and 0.3Msol (hint: total_mass = np.trapz(m * xi, m))"
   ]
  },
  {
   "cell_type": "code",
   "execution_count": null,
   "id": "1acedba5",
   "metadata": {},
   "outputs": [],
   "source": [
    "# 2a)\n",
    "\n",
    "def salpeter_imf(m, alpha=2.35):\n",
    "    \"\"\"\n",
    "    Salpeter IMF: xi(m) ∝ m^(-alpha)\n",
    "    m : stellar mass [Msun]\n",
    "    alpha : slope\n",
    "    Returns xi(m)\n",
    "    \"\"\"\n",
    "    return m**(-alpha)"
   ]
  },
  {
   "cell_type": "code",
   "execution_count": 100,
   "id": "bba81858",
   "metadata": {},
   "outputs": [
    {
     "data": {
      "text/plain": [
       "Text(0, 0.5, 'IMF $\\\\xi(m)$')"
      ]
     },
     "execution_count": 100,
     "metadata": {},
     "output_type": "execute_result"
    },
    {
     "data": {
      "image/png": "[encoded data removed]",
      "text/plain": [
       "<Figure size 640x480 with 1 Axes>"
      ]
     },
     "metadata": {},
     "output_type": "display_data"
    }
   ],
   "source": [
    "m = np.logspace(-1, 2, 1000)\n",
    "xi = salpeter_imf(m)\n",
    "\n",
    "plt.plot(m, xi)\n",
    "\n",
    "plt.xscale(\"log\")\n",
    "plt.yscale(\"log\")\n",
    "\n",
    "plt.xlim(1e-2, 1e2)\n",
    "plt.ylim(1e-2, 1e2)\n",
    "\n",
    "plt.xlabel(\"Stellar Mass [M$_\\odot$]\")\n",
    "plt.ylabel(r\"IMF $\\xi(m)$\")"
   ]
  },
  {
   "cell_type": "code",
   "execution_count": 101,
   "id": "26ddd4e8",
   "metadata": {},
   "outputs": [],
   "source": [
    "# --- Mass fraction function using np.trapz ---\n",
    "def mass_fraction(m, m_min, m_max, alpha=2.35):\n",
    "    \"\"\"\n",
    "    Fraction of total stellar mass in [m_min, m_max] using trapezoidal integration.\n",
    "    \"\"\"\n",
    "    # generate mass array\n",
    "    xi = salpeter_imf(m, alpha)\n",
    "    \n",
    "    # total mass\n",
    "    total_mass = np.trapz(m * xi, m)\n",
    "    \n",
    "    # mass in range\n",
    "    mask = (m >= m_min) & (m <= m_max)\n",
    "    mass_in_range = np.trapz(m[mask] * xi[mask], m[mask])\n",
    "    \n",
    "    # fraction\n",
    "    frac = mass_in_range / total_mass\n",
    "    return frac"
   ]
  },
  {
   "cell_type": "code",
   "execution_count": 102,
   "id": "aae03998",
   "metadata": {},
   "outputs": [
    {
     "data": {
      "text/plain": [
       "0.3488570110301268"
      ]
     },
     "execution_count": 102,
     "metadata": {},
     "output_type": "execute_result"
    }
   ],
   "source": [
    "mass_fraction(m, 0.1, 0.3)"
   ]
  }
 ],
 "metadata": {
  "kernelspec": {
   "display_name": "Python 3",
   "language": "python",
   "name": "python3"
  },
  "language_info": {
   "codemirror_mode": {
    "name": "ipython",
    "version": 3
   },
   "file_extension": ".py",
   "mimetype": "text/x-python",
   "name": "python",
   "nbconvert_exporter": "python",
   "pygments_lexer": "ipython3",
   "version": "3.11.3"
  }
 },
 "nbformat": 4,
 "nbformat_minor": 5
}

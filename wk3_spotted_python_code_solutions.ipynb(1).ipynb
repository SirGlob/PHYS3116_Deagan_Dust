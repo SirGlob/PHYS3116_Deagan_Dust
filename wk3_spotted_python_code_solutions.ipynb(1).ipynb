{
  "cells": [
    {
      "cell_type": "markdown",
      "metadata": {},
      "source": [
        "# Spotted Python Week 3 Tutorial\n",
        "In this script, we aim to practice the following skills:\n",
        "- Manipulating arrays\n",
        "- Creating functions\n",
        "- Using logical statements\n",
        "- Simple demonstration of graphing"
      ]
    },
    {
      "cell_type": "code",
      "execution_count": 9,
      "metadata": {
        "id": "Idnq3_kHqzu1"
      },
      "outputs": [],
      "source": [
        "# Import libraries\n",
        "from math import log10, floor\n",
        "import numpy as np\n",
        "import matplotlib.pyplot as plt\n",
        "import matplotlib.colors as colours\n",
        "import cmasher as cm"
      ]
    },
    {
      "cell_type": "markdown",
      "metadata": {},
      "source": [
        "## Arrays\n",
        "Now that we can see some benefit in using arrays, let's try to manipulate them."
      ]
    },
    {
      "cell_type": "code",
      "execution_count": 10,
      "metadata": {},
      "outputs": [],
      "source": [
        "# Define some arbitrary arrays\n",
        "arr1 = np.array([2, 4, 6, 8, 10, 12]) # list of even numbers\n",
        "arr2 = np.arange(1, 13, 2) # creates an array of odd numbers from 1 to 11\n",
        "arr3 = np.array([[1,2,3],\n",
        "                 [4,5,6],\n",
        "                 [7,8,9]]) # 3x3 array\n",
        "arr4 = np.array([[2,4,9],\n",
        "                 [7,1,8],\n",
        "                 [5,3,6]]) # 3x3 array"
      ]
    },
    {
      "cell_type": "markdown",
      "metadata": {},
      "source": [
        "Again, let's play with these arrays and predict what it will do"
      ]
    },
    {
      "cell_type": "code",
      "execution_count": 11,
      "metadata": {},
      "outputs": [
        {
          "data": {
            "text/plain": [
              "np.int64(8)"
            ]
          },
          "execution_count": 11,
          "metadata": {},
          "output_type": "execute_result"
        }
      ],
      "source": [
        "arr3[2,-2] # 3rd to 3rd last value in arr3"
      ]
    },
    {
      "cell_type": "code",
      "execution_count": 12,
      "metadata": {},
      "outputs": [
        {
          "data": {
            "text/plain": [
              "array([1, 3])"
            ]
          },
          "execution_count": 12,
          "metadata": {},
          "output_type": "execute_result"
        }
      ],
      "source": [
        "arr2[:-4] # first to 5th last value in arr2"
      ]
    },
    {
      "cell_type": "code",
      "execution_count": 13,
      "metadata": {},
      "outputs": [
        {
          "data": {
            "text/plain": [
              "array([1, 2, 3])"
            ]
          },
          "execution_count": 13,
          "metadata": {},
          "output_type": "execute_result"
        }
      ],
      "source": [
        "arr3[0] # first list in arr3"
      ]
    },
    {
      "cell_type": "code",
      "execution_count": 14,
      "metadata": {},
      "outputs": [
        {
          "data": {
            "text/plain": [
              "array([4, 1, 3])"
            ]
          },
          "execution_count": 14,
          "metadata": {},
          "output_type": "execute_result"
        }
      ],
      "source": [
        "arr4[:,1] # 2nd column of arr4"
      ]
    },
    {
      "cell_type": "code",
      "execution_count": 15,
      "metadata": {},
      "outputs": [
        {
          "data": {
            "text/plain": [
              "array([5, 3, 6])"
            ]
          },
          "execution_count": 15,
          "metadata": {},
          "output_type": "execute_result"
        }
      ],
      "source": [
        "arr4[2,:] # 3rd row of arr4"
      ]
    },
    {
      "cell_type": "code",
      "execution_count": 16,
      "metadata": {},
      "outputs": [
        {
          "data": {
            "text/plain": [
              "np.int64(42)"
            ]
          },
          "execution_count": 16,
          "metadata": {},
          "output_type": "execute_result"
        }
      ],
      "source": [
        "np.sum(arr1) # sum of all values in arr1"
      ]
    },
    {
      "cell_type": "code",
      "execution_count": 17,
      "metadata": {},
      "outputs": [
        {
          "data": {
            "text/plain": [
              "np.int64(5)"
            ]
          },
          "execution_count": 17,
          "metadata": {},
          "output_type": "execute_result"
        }
      ],
      "source": [
        "np.argmax(arr2) # index of the maximum value in arr2"
      ]
    },
    {
      "cell_type": "code",
      "execution_count": 18,
      "metadata": {},
      "outputs": [
        {
          "data": {
            "text/plain": [
              "6"
            ]
          },
          "execution_count": 18,
          "metadata": {},
          "output_type": "execute_result"
        }
      ],
      "source": [
        "len(arr2) # number of elements in arr2"
      ]
    },
    {
      "cell_type": "code",
      "execution_count": 19,
      "metadata": {},
      "outputs": [
        {
          "data": {
            "text/plain": [
              "9"
            ]
          },
          "execution_count": 19,
          "metadata": {},
          "output_type": "execute_result"
        }
      ],
      "source": [
        "np.size(arr3) # total amount of memory allocated to store arr3"
      ]
    },
    {
      "cell_type": "code",
      "execution_count": 20,
      "metadata": {},
      "outputs": [
        {
          "data": {
            "text/plain": [
              "(3, 3)"
            ]
          },
          "execution_count": 20,
          "metadata": {},
          "output_type": "execute_result"
        }
      ],
      "source": [
        "np.shape(arr4) # dimensions of arr3"
      ]
    },
    {
      "cell_type": "code",
      "execution_count": 21,
      "metadata": {},
      "outputs": [
        {
          "data": {
            "text/plain": [
              "array([[1, 2, 3],\n",
              "       [4, 5, 6],\n",
              "       [7, 8, 9],\n",
              "       [2, 4, 9],\n",
              "       [7, 1, 8],\n",
              "       [5, 3, 6]])"
            ]
          },
          "execution_count": 21,
          "metadata": {},
          "output_type": "execute_result"
        }
      ],
      "source": [
        "np.concatenate((arr3,arr4)) # combined list of values from arr3 and arr4"
      ]
    },
    {
      "cell_type": "code",
      "execution_count": 22,
      "metadata": {},
      "outputs": [
        {
          "data": {
            "text/plain": [
              "array([[ 2,  8, 27],\n",
              "       [28,  5, 48],\n",
              "       [35, 24, 54]])"
            ]
          },
          "execution_count": 22,
          "metadata": {},
          "output_type": "execute_result"
        }
      ],
      "source": [
        "arr3 * arr4 # elementwise multiplication of values in arr3 and arr4"
      ]
    },
    {
      "cell_type": "code",
      "execution_count": 23,
      "metadata": {},
      "outputs": [
        {
          "data": {
            "text/plain": [
              "array([[ 31,  15,  43],\n",
              "       [ 73,  39, 112],\n",
              "       [115,  63, 181]])"
            ]
          },
          "execution_count": 23,
          "metadata": {},
          "output_type": "execute_result"
        }
      ],
      "source": [
        "np.matmul(arr3, arr4) # matrix multiplication between arr3 and arr4"
      ]
    },
    {
      "cell_type": "markdown",
      "metadata": {},
      "source": [
        "### **Exercise 1:**\n",
        "Using the defined arrays find the following:\n",
        "1. Largest number in arr5\n",
        "2. Index/indices of the smallest number in arr6\n",
        "3. 5th to 27th values in arr5\n",
        "4. 13th to 3rd last values in arr6\n",
        "5. Elementwise sum of the 1st to 15th values of arr5 and arr6\n",
        "6. Size of arr7\n",
        "7. Matrix multiplication of arr7 and arr8\n",
        "8. Combined list of values from arr7 and arr8\n",
        "9. Elementwise multiplication of arr7 and arr8, as well as the value on the 2nd row and 3rd column from the resulting array."
      ]
    },
    {
      "cell_type": "code",
      "execution_count": 24,
      "metadata": {},
      "outputs": [],
      "source": [
        "# Define arrays\n",
        "arr5 = np.array([32, 69, 112, 64, 115, 89, 57, 97, 176, 89, 74, 76, 141, 102, 113, 105, 74, 32, 81, 186, 89, 150, 161, 119, 115, 60, 110, 140, 96, 73, 142, 171, 153, 99, 61, 158, 137, 73, 163, 68])\n",
        "arr6 = np.array([22, 12, 21, 23, 16, 23, 13, 13, 20, 11, 18, 14, 23, 11, 15, 11, 22, 13, 15, 11, 21, 16, 13, 20, 15])\n",
        "arr7 = np.array([[8, 5, 10, 7], [3, 8, 3, 4], [6, 2, 7, 7], [5, 5, 2, 6]])\n",
        "arr8 = np.array([[8, 1, 3, 9], [9, 1, 10, 10], [10, 9, 6, 2], [8, 3, 3, 5]])"
      ]
    },
    {
      "cell_type": "code",
      "execution_count": 25,
      "metadata": {},
      "outputs": [
        {
          "name": "stdout",
          "output_type": "stream",
          "text": [
            "The largest number in arr5 is 186\n",
            "\n",
            "The index/indices of the smallest number in arr6 is/are 9\n",
            "\n",
            "The 5th to 27th values in arr5:\n",
            "[115  89  57  97 176  89  74  76 141 102 113 105  74  32  81 186  89 150\n",
            " 161 119 115  60 110 140]\n",
            "\n",
            "The 13th to 3rd last values in arr6:\n",
            "[23 11 15 11 22 13 15 11 21 16 13]\n",
            "\n",
            "The elementwise sum of the 1st to 15th values of arr5 and arr6:\n",
            "[ 54  81 133  87 131 112  70 110 196 100  92  90 164 113 128 116]\n",
            "\n",
            "The size of arr7 is 16\n",
            "\n",
            "The matrix multiplication of arr7 and arr8:\n",
            "[[265 124 155 177]\n",
            " [158  50 119 133]\n",
            " [192  92 101 123]\n",
            " [153  46  95 129]]\n",
            "\n",
            "The combined list of values from arr7 and arr8:\n",
            "[[ 8  5 10  7]\n",
            " [ 3  8  3  4]\n",
            " [ 6  2  7  7]\n",
            " [ 5  5  2  6]\n",
            " [ 8  1  3  9]\n",
            " [ 9  1 10 10]\n",
            " [10  9  6  2]\n",
            " [ 8  3  3  5]]\n",
            "\n",
            "The elementwise multiplication of arr7 and arr8:\n",
            "[[265 124 155 177]\n",
            " [158  50 119 133]\n",
            " [192  92 101 123]\n",
            " [153  46  95 129]]\n",
            "\n",
            "From this matrix, it can be seen that the value on the 2nd row and 3rd column is 119\n"
          ]
        }
      ],
      "source": [
        "# Largest number in arr5\n",
        "np.max(arr5)\n",
        "print('The largest number in arr5 is ' + str(np.max(arr5)) + '\\n')\n",
        "\n",
        "# Index/indices of the smallest number in arr6\n",
        "print('The index/indices of the smallest number in arr6 is/are ' \\\n",
        "      + str(np.argmin(arr6)) + '\\n')\n",
        "\n",
        "# 5th to 27th values in arr5\n",
        "print('The 5th to 27th values in arr5:\\n' + str(arr5[4:28]) + '\\n')\n",
        "\n",
        "# 13th to 3rd last values in arr6\n",
        "print('The 13th to 3rd last values in arr6:\\n' + str(arr6[12:-2]) + '\\n')\n",
        "\n",
        "# Elementwise sum of the 1st to 15th values of arr5 and arr6\n",
        "print('The elementwise sum of the 1st to 15th values of arr5 and arr6:\\n'\\\n",
        "       + str(arr5[:16]+arr6[:16]) + '\\n')\n",
        "\n",
        "# Size of arr7\n",
        "print('The size of arr7 is ' + str(np.size(arr7)) + '\\n')\n",
        "\n",
        "# Matrix multiplication of arr7 and arr8\n",
        "print('The matrix multiplication of arr7 and arr8:\\n' + str(np.matmul(arr7, arr8)) + '\\n')\n",
        "\n",
        "# Combined list of values from arr7 and arr8\n",
        "print('The combined list of values from arr7 and arr8:\\n' \\\n",
        "      + str(np.concatenate((arr7, arr8))) + '\\n')\n",
        "\n",
        "# Elementwise multiplication of arr7 and arr8, \n",
        "# as well as the value on the 2nd row and 3rd column from the resulting array\n",
        "print('The elementwise multiplication of arr7 and arr8:\\n' + str(np.matmul(arr7, arr8)) + '\\n')\n",
        "print('From this matrix, it can be seen that the value on the 2nd row and 3rd column is '\\\n",
        "      + str(np.matmul(arr7, arr8)[1,2]))"
      ]
    },
    {
      "cell_type": "markdown",
      "metadata": {},
      "source": [
        "## Functions\n",
        "### **Example 1:**\n",
        "Python makes rounding to significant figures weirdly hard, so let's write a function to round numbers to a given number of significant figures. But before coding up the function, let's figure out the logic.\n",
        "\n",
        "Assuming we want to round 123456 to 3 significant figures. This is equivalent to rounding the number to the -3rd digit (counting from the decimal place). Hence it is the easiest to first find the order of magnitude of the number:\n",
        "```python\n",
        "int(floor(log10(abs(123456)))) # floor rounds to the lower integer\n",
        "```\n",
        "\n",
        "Which can be alternatively interpreted as the number of digits before the decimal place to round the number to 1 significant figure. Hence to round the number to the correct number of significant figures, we can add the desired (precision - 1) to the **negative** of the order of magnitude.\n",
        "```python\n",
        "sf_to_dp = -int(floor(log10(abs(123456)))) + precision - 1\n",
        "round(123456, sf_to_dp)\n",
        "```"
      ]
    },
    {
      "cell_type": "code",
      "execution_count": 26,
      "metadata": {},
      "outputs": [],
      "source": [
        "# Define the function\n",
        "def sigfig(x, precision):\n",
        "    x = float(x) # ensure the number is a float\n",
        "    precision = int(precision)  # ensure the precision is an integer\n",
        "    magnitude = int(floor(log10(abs(x))))\n",
        "    sf_to_dp = -magnitude + precision - 1\n",
        "    return round(x, sf_to_dp)"
      ]
    },
    {
      "cell_type": "code",
      "execution_count": 27,
      "metadata": {},
      "outputs": [
        {
          "data": {
            "text/plain": [
              "123000"
            ]
          },
          "execution_count": 27,
          "metadata": {},
          "output_type": "execute_result"
        }
      ],
      "source": [
        "# Testing the function\n",
        "precision = 3\n",
        "sf_to_dp = -int(floor(log10(abs(123456)))) + precision - 1\n",
        "round(123456, sf_to_dp)"
      ]
    },
    {
      "cell_type": "markdown",
      "metadata": {},
      "source": [
        "Opps this is not perfect code, but it is strangely hard to do in python.\n",
        "\n",
        "### **Example 2:**\n",
        "Drawing from our example from last week, let's try to generate a function to calculate the escape velocity."
      ]
    },
    {
      "cell_type": "code",
      "execution_count": 28,
      "metadata": {},
      "outputs": [],
      "source": [
        "# Defining the function\n",
        "def escape(M,R): # M and R are the parameteres required\n",
        "    G = 6.67*10**-11 # gravitational constant\n",
        "    v_esc = ((2*G*M)/R)**0.5 # calculates the escape velocity, m/s\n",
        "    return v_esc"
      ]
    },
    {
      "cell_type": "code",
      "execution_count": 29,
      "metadata": {},
      "outputs": [
        {
          "name": "stdout",
          "output_type": "stream",
          "text": [
            "The escape velocity for the Sun is 11200.0 m/s\n"
          ]
        }
      ],
      "source": [
        "# Input parameters\n",
        "M_earth = 5.97e24 # mass of earth, kg\n",
        "R_earth = 6.371e6 # radius of earth, m\n",
        "\n",
        "# Finding the escape velocity\n",
        "v_esc_sun = escape(M_earth,R_earth)\n",
        "print(f'The escape velocity for the Sun is {sigfig(v_esc_sun,3)} m/s') # prints the value to 3sf"
      ]
    },
    {
      "cell_type": "markdown",
      "metadata": {},
      "source": [
        "### **Exercise 2:**\n",
        "Write a function for calculating gravitational force between two objects. Then use your function to calculate the gravitational acceleration between the Earth and the Sun. Recall, $$F=\\frac{Gm_1m_2}{r^2},$$ where, $m_1$, $m_2$ are the masses of the 2 objects, and $r$ is the distance between the two objects. The distance between the Earth and the Sun is $150.67 \\text{ Gm}$."
      ]
    },
    {
      "cell_type": "code",
      "execution_count": 30,
      "metadata": {},
      "outputs": [
        {
          "name": "stdout",
          "output_type": "stream",
          "text": [
            "The gravitational force between the Sun and Earth is 3.49e+22 N\n"
          ]
        }
      ],
      "source": [
        "# Define the function\n",
        "def force(m1, m2, r):\n",
        "    G = 6.67*10**-11 # gravitational constant\n",
        "    force = (G*m1*m2)/r**2 # returns the gravitational force between two objects, N\n",
        "    return force\n",
        "\n",
        "# Input parameters\n",
        "M_sun = 1.989e30 # mass of the sun, kg\n",
        "M_earth = 5.97e24 # mass of earth, kg\n",
        "r_earth_sun = 1.5067e11 # distance between the Earth and Sun, m\n",
        "\n",
        "# Calculate and print value\n",
        "force_earth_sun = force(M_earth, M_sun, r_earth_sun)\n",
        "print(f'The gravitational force between the Sun and Earth is {sigfig(force_earth_sun,3)} N')"
      ]
    },
    {
      "cell_type": "markdown",
      "metadata": {},
      "source": [
        "After learning more things we can do in python, we can then make more complex functions.\n",
        "\n",
        "## Logical Statements\n",
        "Sometimes to isolate particular values we want within a long array, we can give ask python logical statements. This allows us to further treat values differently depending on whether they satisfy a condition, using if/else statements.\n",
        "### **Example 3:**\n",
        "Determine the Harvard spectral classification for a main-sequence star with an effective temperature of 7800K. Recalling the classifications are as below:\n",
        "- $\\text{O: }T_{eff}\\geq33000 \\ K$\n",
        "- $\\text{B: }10000\\leq T_{eff}<33000 \\ K$\n",
        "- $\\text{A: }7300\\leq T_{eff}<10000 \\ K$\n",
        "- $\\text{F: }6000\\leq T_{eff}<7300 \\ K$\n",
        "- $\\text{G: }5300\\leq T_{eff}<6000 \\ K$\n",
        "- $\\text{K: }3900\\leq T_{eff}<5300 \\ K$\n",
        "- $\\text{M: }2300\\leq T_{eff}<3900 \\ K$"
      ]
    },
    {
      "cell_type": "code",
      "execution_count": 32,
      "metadata": {},
      "outputs": [
        {
          "name": "stdout",
          "output_type": "stream",
          "text": [
            "F\n"
          ]
        }
      ],
      "source": [
        "# we can request an input\n",
        "temp = float(input('what is the temperature of the main-sequence star? '))\n",
        "\n",
        "# use logical statements to determine the classification of the star\n",
        "if temp >= 33000:\n",
        "    print('O')\n",
        "elif 10000 <= temp < 33000:\n",
        "    print('B')\n",
        "elif 7300 <= temp < 10000:\n",
        "    print('A')\n",
        "elif 6000 <= temp < 7300:\n",
        "    print('F')\n",
        "elif 5300 <= temp < 6000:\n",
        "    print('G')\n",
        "elif 3900 <= temp < 5300:\n",
        "    print('K')\n",
        "elif 2300 <= temp < 3900:\n",
        "    print('M')\n",
        "else:\n",
        "    print('not a valid temperature')"
      ]
    },
    {
      "cell_type": "code",
      "execution_count": 33,
      "metadata": {},
      "outputs": [],
      "source": [
        "# We can easily make this into a function\n",
        "def classify_star(temp):\n",
        "    if temp >= 33000:\n",
        "        classify = 'O'\n",
        "    elif 10000 <= temp < 33000:\n",
        "        classify = 'B'\n",
        "    elif 7300 <= temp < 10000:\n",
        "        classify = 'A'\n",
        "    elif 6000 <= temp < 7300:\n",
        "        classify = 'F'\n",
        "    elif 5300 <= temp < 6000:\n",
        "        classify = 'G'\n",
        "    elif 3900 <= temp < 5300:\n",
        "        classify = 'K'\n",
        "    elif 2300 <= temp < 3900:\n",
        "        classify = 'M'\n",
        "    return classify"
      ]
    },
    {
      "cell_type": "markdown",
      "metadata": {},
      "source": [
        "### **Exercise 3:**\n",
        "Determine the whether a star of mass $M=3.67\\times10^{29} \\text{ kg}$ is a low-mass, intermediate-mass or massive star. Given:\n",
        "- $M_\\odot=1.989\\times10^{30}$\n",
        "- $\\text{Low mass stars: }M/M_{\\odot}<=0.08$\n",
        "- $\\text{Intermediate mass stars: } 0.08\\leq M/M_{\\odot}\\lesssim2$\n",
        "- $\\text{Massive stars: } 2\\lesssim M/M_{\\odot}\\lesssim10$"
      ]
    },
    {
      "cell_type": "code",
      "execution_count": 34,
      "metadata": {},
      "outputs": [
        {
          "name": "stdout",
          "output_type": "stream",
          "text": [
            "Intermediate mass star\n"
          ]
        }
      ],
      "source": [
        "# find the mass of the star in solar masses\n",
        "mass = 3.67e29 # mass of star, kg\n",
        "M_sun = 1.989e30 # mass of sun, kg\n",
        "solar_mass = mass/M_sun # solar mass\n",
        "\n",
        "# Enforce logical statements\n",
        "if solar_mass < 0.08:\n",
        "    print('Low mass star')\n",
        "elif 0.08 <= solar_mass < 2:\n",
        "    print('Intermediate mass star')\n",
        "elif 2 <= solar_mass < 10:\n",
        "    print('Massive star')"
      ]
    },
    {
      "cell_type": "markdown",
      "metadata": {},
      "source": [
        "## Simple Graphing\n",
        "We will import the stellar data and colour the HR diagram in different ways"
      ]
    },
    {
      "cell_type": "code",
      "execution_count": 35,
      "metadata": {},
      "outputs": [],
      "source": [
        "# import the csv file\n",
        "# here we put the name of the file as a string\n",
        "# the delimiter is what separate the different data\n",
        "# skiprow tells the function how many rows to skip from the start of the file\n",
        "# dtype sets the type of object being imported\n",
        "stellar_data = np.loadtxt('stellar_data.csv', delimiter= ',', skiprows=1, dtype=object)\n",
        "\n",
        "# store each column as a new variable\n",
        "star_T = stellar_data[:,0].astype(float) # to avoid using temp again, stellar_T is used\n",
        "star_L = stellar_data[:,1].astype(float) # luminosity in solar luminosity\n",
        "star_R = stellar_data[:,2].astype(float) # radius in solar radii\n",
        "star_Mv = stellar_data[:,3].astype(float) # magnitude\n",
        "star_type = stellar_data[:,4] # type of star\n",
        "star_colour = stellar_data[:,5] # colour\n",
        "star_class = stellar_data[:,6] # spectral classification"
      ]
    },
    {
      "cell_type": "code",
      "execution_count": 36,
      "metadata": {},
      "outputs": [
        {
          "data": {
            "text/plain": [
              "Text(0, 0.5, '$M_V$, $mag$')"
            ]
          },
          "execution_count": 36,
          "metadata": {},
          "output_type": "execute_result"
        },
        {
          "data": {
            "image/png": "[encoded data removed]",
            "text/plain": [
              "<Figure size 640x480 with 1 Axes>"
            ]
          },
          "metadata": {},
          "output_type": "display_data"
        }
      ],
      "source": [
        "# Create a colourmap\n",
        "cmap = colours.ListedColormap(['#ff6347', '#fe8951', '#ffa93e', '#ffc728', '#ffe410', '#90b2e8', '#778ce5', '#5d66df', '#403ed7', '#0000cd'])\n",
        "cmap_2 = cm.tropical\n",
        "\n",
        "plt.scatter(np.log(star_T), star_Mv, c=star_T, marker='*', s=50, cmap=cmap_2)\n",
        "\n",
        "# Since the HR diagram has inverted scales\n",
        "plt.gca().invert_xaxis()\n",
        "plt.gca().invert_yaxis()\n",
        "\n",
        "# Axes\n",
        "plt.title('Hertzsprung-Russel Diagram') # Title of graph\n",
        "plt.xlabel('$\\ln T$, $K$') # x-axis label\n",
        "plt.ylabel('$M_V$, $mag$') # y-axis label"
      ]
    },
    {
      "cell_type": "markdown",
      "metadata": {},
      "source": [
        "What if we want to colourcode according to the type of star?"
      ]
    },
    {
      "cell_type": "code",
      "execution_count": 37,
      "metadata": {},
      "outputs": [],
      "source": [
        "# Let's first make new arrays depending on the type of star\n",
        "\n",
        "# Brown Dwarf, bd\n",
        "bd_T = star_T[np.where(star_type == 'Brown Dwarf')]\n",
        "bd_Mv = star_Mv[np.where(star_type == 'Brown Dwarf')]\n",
        "\n",
        "# Red Dwarf, rd\n",
        "rd_T = star_T[np.where(star_type == 'Red Dwarf')]\n",
        "rd_Mv = star_Mv[np.where(star_type == 'Red Dwarf')]\n",
        "\n",
        "# White Dwarf\n",
        "wd_T = star_T[np.where(star_type == 'White Dwarf')]\n",
        "wd_Mv = star_Mv[np.where(star_type == 'White Dwarf')]\n",
        "\n",
        "# Main Sequence\n",
        "ms_T = star_T[np.where(star_type == 'Main Sequence')]\n",
        "ms_Mv = star_Mv[np.where(star_type == 'Main Sequence')]\n",
        "\n",
        "# Supergiant\n",
        "sg_T = star_T[np.where(star_type == 'Supergiant')]\n",
        "sg_Mv = star_Mv[np.where(star_type == 'Supergiant')]\n",
        "\n",
        "# Hypergiant\n",
        "hg_T = star_T[np.where(star_type == 'Hypergiant')]\n",
        "hg_Mv = star_Mv[np.where(star_type == 'Hypergiant')]"
      ]
    },
    {
      "cell_type": "code",
      "execution_count": 38,
      "metadata": {},
      "outputs": [
        {
          "data": {
            "text/plain": [
              "<matplotlib.legend.Legend at 0x14171aa1550>"
            ]
          },
          "execution_count": 38,
          "metadata": {},
          "output_type": "execute_result"
        },
        {
          "data": {
            "image/png": "[encoded data removed]",
            "text/plain": [
              "<Figure size 640x480 with 1 Axes>"
            ]
          },
          "metadata": {},
          "output_type": "display_data"
        }
      ],
      "source": [
        "# plot the stars on a diagram\n",
        "# I prefer logging the values themselves\n",
        "plt.plot(np.log(bd_T), bd_Mv, '*', markersize=6, color = 'brown', label = 'Brown Dwarf')\n",
        "plt.plot(np.log(rd_T), rd_Mv, '*', markersize=6, color = 'violet', label = 'Red Dwarf')\n",
        "plt.plot(np.log(wd_T), wd_Mv, '*', markersize=8, color = 'gold', label = 'White Dwarf')\n",
        "plt.plot(np.log(ms_T), ms_Mv, '*', markersize=8, color = 'forestgreen', label = 'Main Sequence')\n",
        "plt.plot(np.log(sg_T), sg_Mv, '*', markersize=10, color = 'deeppink', label = 'Supergiant')\n",
        "plt.plot(np.log(hg_T), hg_Mv, '*', markersize=10, color = 'royalblue', label = 'Hypergiant')\n",
        "\n",
        "# Since the HR diagram has inverted scales\n",
        "plt.gca().invert_xaxis()\n",
        "plt.gca().invert_yaxis()\n",
        "\n",
        "# Axes\n",
        "plt.title('Hertzsprung-Russel Diagram') # Title of graph\n",
        "plt.xlabel('$\\ln T$, $K$') # x-axis label\n",
        "plt.ylabel('$M_V$, $mag$') # y-axis label\n",
        "\n",
        "# Legend\n",
        "plt.tight_layout()\n",
        "plt.legend(bbox_to_anchor=(1, 0), loc='lower left') # displays and sets the location"
      ]
    }
  ],
  "metadata": {
    "colab": {
      "provenance": []
    },
    "kernelspec": {
      "display_name": "Python 3",
      "language": "python",
      "name": "python3"
    },
    "language_info": {
      "codemirror_mode": {
        "name": "ipython",
        "version": 3
      },
      "file_extension": ".py",
      "mimetype": "text/x-python",
      "name": "python",
      "nbconvert_exporter": "python",
      "pygments_lexer": "ipython3",
      "version": "3.11.9"
    }
  },
  "nbformat": 4,
  "nbformat_minor": 0
}
